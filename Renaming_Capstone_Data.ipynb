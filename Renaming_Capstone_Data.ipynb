{
 "cells": [
  {
   "cell_type": "code",
   "execution_count": 14,
   "id": "5e58a41e",
   "metadata": {},
   "outputs": [],
   "source": [
    "# Looping through all PDFs and converting them to JPGs, and storing them within same folder \n",
    "\n",
    "# Necessary imports\n",
    "import os\n",
    "import warnings\n",
    "warnings.filterwarnings('ignore')   \n",
    "\n",
    "# Folder path containing PDF files\n",
    "folder_path = r\"C:\\Users\\shree\\OneDrive\\Desktop\\SBI Data in JPGs1\"\n",
    "# Changing os working directory to the dataset location\n",
    "os.chdir(folder_path)\n",
    "\n",
    "pdf_paths = []\n",
    "# Loop through each file in the folder\n",
    "for filename in os.listdir(folder_path):\n",
    "#     print(os.path.splitext(filename)[0])\n",
    "    old_name = os.path.splitext(filename)[0]\n",
    "    \n",
    "    form_no = int(old_name.split('_')[0][3:])\n",
    "    side = old_name.split('_')[1]\n",
    "#     print(side)\n",
    "    sidename = \"\"\n",
    "    if side=='1':\n",
    "        sidename = 'front'\n",
    "    if side=='2':\n",
    "        sidename = 'back'\n",
    "#     print(\"MT22069_MT22070\"+\"_form\"+str(form_no)+\"_\"+sidename)\n",
    "    newname = \"MT22069_MT22070\"+\"_form\"+str(form_no)+\"_\"+sidename+\".jpg\"\n",
    "    \n",
    "    old_path = os.path.join(folder_path, filename)\n",
    "    new_path = os.path.join(folder_path, newname)\n",
    "    \n",
    "    os.rename(old_path, new_path)\n",
    "    "
   ]
  },
  {
   "cell_type": "code",
   "execution_count": null,
   "id": "f364ef54",
   "metadata": {},
   "outputs": [],
   "source": []
  }
 ],
 "metadata": {
  "kernelspec": {
   "display_name": "Python 3 (ipykernel)",
   "language": "python",
   "name": "python3"
  },
  "language_info": {
   "codemirror_mode": {
    "name": "ipython",
    "version": 3
   },
   "file_extension": ".py",
   "mimetype": "text/x-python",
   "name": "python",
   "nbconvert_exporter": "python",
   "pygments_lexer": "ipython3",
   "version": "3.9.13"
  }
 },
 "nbformat": 4,
 "nbformat_minor": 5
}
